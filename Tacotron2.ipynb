{
  "nbformat": 4,
  "nbformat_minor": 0,
  "metadata": {
    "colab": {
      "name": "Tacotron2",
      "provenance": [],
      "mount_file_id": "1I0uYr9YdzaOByvkgwebQFZMESCdJ4S8W",
      "authorship_tag": "ABX9TyPCRsB2vZsINT9yd1W//51I",
      "include_colab_link": true
    },
    "kernelspec": {
      "display_name": "Python 3",
      "name": "python3"
    },
    "language_info": {
      "name": "python"
    }
  },
  "cells": [
    {
      "cell_type": "markdown",
      "metadata": {
        "id": "view-in-github",
        "colab_type": "text"
      },
      "source": [
        "<a href=\"https://colab.research.google.com/github/blackgreenc/Paper/blob/main/Tacotron2.ipynb\" target=\"_parent\"><img src=\"https://colab.research.google.com/assets/colab-badge.svg\" alt=\"Open In Colab\"/></a>"
      ]
    },
    {
      "cell_type": "markdown",
      "metadata": {
        "id": "0MFrtln2m56t"
      },
      "source": [
        "<a href=\"https://github.com/carpedm20/multi-speaker-tacotron-tensorflow\">자료1</a>\n",
        "<a href=\"https://joungheekim.github.io/2021/04/02/code-review/\">자료2</a>"
      ]
    },
    {
      "cell_type": "code",
      "metadata": {
        "colab": {
          "base_uri": "https://localhost:8080/"
        },
        "id": "esqPT5UN8bZ1",
        "outputId": "7bc1f1c7-aae3-4926-a45e-b42f40cf6dda"
      },
      "source": [
        "!pip3 install -r requirements.txt\n",
        "!python -c \"import nltk; nltk.download('punkt')\""
      ],
      "execution_count": 4,
      "outputs": [
        {
          "output_type": "stream",
          "name": "stdout",
          "text": [
            "\u001b[31mERROR: Could not open requirements file: [Errno 2] No such file or directory: 'requirements.txt'\u001b[0m\n",
            "[nltk_data] Downloading package punkt to /root/nltk_data...\n",
            "[nltk_data]   Unzipping tokenizers/punkt.zip.\n"
          ]
        }
      ]
    },
    {
      "cell_type": "code",
      "metadata": {
        "id": "NPb4tbvAXtKJ",
        "colab": {
          "base_uri": "https://localhost:8080/"
        },
        "outputId": "1fb24207-7ea3-42cd-cc2b-f3b14f50c51c"
      },
      "source": [
        "!python3 -m datasets.generate_data ./datasets/YOUR_DATASET/alignment.json"
      ],
      "execution_count": 3,
      "outputs": [
        {
          "output_type": "stream",
          "name": "stdout",
          "text": [
            "/usr/bin/python3: Error while finding module specification for 'datasets.generate_data' (ModuleNotFoundError: No module named 'datasets')\n"
          ]
        }
      ]
    },
    {
      "cell_type": "markdown",
      "metadata": {
        "id": "IVWWVjWWEMJ5"
      },
      "source": [
        ""
      ]
    }
  ]
}